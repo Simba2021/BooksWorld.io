{
  "cells": [
    {
      "cell_type": "markdown",
      "metadata": {
        "id": "view-in-github",
        "colab_type": "text"
      },
      "source": [
        "<a href=\"https://colab.research.google.com/github/Simba2021/BooksWorld.io/blob/main/day01/exercises/01_Datatypes.ipynb\" target=\"_parent\"><img src=\"https://colab.research.google.com/assets/colab-badge.svg\" alt=\"Open In Colab\"/></a>"
      ]
    },
    {
      "cell_type": "markdown",
      "metadata": {
        "id": "b3eeaySN_Gnw"
      },
      "source": [
        "# Datatypes exercises"
      ]
    },
    {
      "cell_type": "markdown",
      "metadata": {
        "id": "knVpU8jt_Gn8"
      },
      "source": [
        "## Exercise 1"
      ]
    },
    {
      "cell_type": "markdown",
      "metadata": {
        "id": "-SZccbOQ_Gn-"
      },
      "source": [
        "Write the following mathematical formula in Python:\n",
        "\n",
        "\\begin{align}\n",
        " result = 6a^3 - \\frac{8b^2 }{4c} + 11\n",
        "\\end{align}\n",
        "\n",
        "```python\n",
        "a = 2\n",
        "b = 3\n",
        "c = 2\n",
        "```\n",
        "\n",
        "> write your formula as \n",
        "```python\n",
        "result = \n",
        "```\n",
        "\n",
        "It must verify\n",
        "```python\n",
        ">>> assert result == 50"
      ]
    },
    {
      "cell_type": "code",
      "execution_count": 19,
      "metadata": {
        "colab": {
          "base_uri": "https://localhost:8080/"
        },
        "id": "03R7MMR7_GoA",
        "outputId": "78ece491-62a0-45a1-a22b-9ee35ddc332c"
      },
      "outputs": [
        {
          "output_type": "stream",
          "name": "stdout",
          "text": [
            "entrez a\n",
            "2\n",
            "entrez b\n",
            "3\n",
            "entrez c\n",
            "2\n",
            "50.0\n"
          ]
        }
      ],
      "source": [
        "a = int(input('entrez a\\n'))\n",
        "b = int(input('entrez b\\n'))\n",
        "c = int(input('entrez c\\n'))\n",
        "if c == 0 :\n",
        "    print('non-valid argument c')\n",
        "else :\n",
        "    result = (6 * a * a * a )-((8 * b * b)/(4 * c)) + 11\n",
        "    print(result)"
      ]
    },
    {
      "cell_type": "markdown",
      "metadata": {
        "id": "11_SSuBK_GoJ"
      },
      "source": [
        "## Exercise 2"
      ]
    },
    {
      "cell_type": "markdown",
      "metadata": {
        "id": "va9uOCDt_GoL"
      },
      "source": [
        "Explain why the folowing assertion fails"
      ]
    },
    {
      "cell_type": "code",
      "execution_count": 12,
      "metadata": {
        "id": "EEybQnr5_GoM",
        "outputId": "b84457de-7aa5-40b7-c9ca-e9d401c7f412",
        "colab": {
          "base_uri": "https://localhost:8080/"
        }
      },
      "outputs": [
        {
          "output_type": "stream",
          "name": "stdout",
          "text": [
            "When you type the number 0.1 into the Python interpreter, it gets stored in memory as a floating-point number. There's a conversion that takes place when this happens. 0.1 is a decimal in base 10, but floating-point numbers are stored in binary. In other words, 0.1 gets converted from base 10 to base 2.The resulting binary number may not accurately represent the original base 10 number.\n"
          ]
        }
      ],
      "source": [
        "print(\"When you type the number 0.1 into the Python interpreter, it gets stored in memory as a floating-point number. There's a conversion that takes place when this happens. 0.1 is a decimal in base 10, but floating-point numbers are stored in binary. In other words, 0.1 gets converted from base 10 to base 2.The resulting binary number may not accurately represent the original base 10 number.\")"
      ]
    },
    {
      "cell_type": "markdown",
      "metadata": {
        "id": "f7hSc_FY_GoN"
      },
      "source": [
        "## Exercise 3"
      ]
    },
    {
      "cell_type": "markdown",
      "metadata": {
        "id": "wx6eDASQ_GoO"
      },
      "source": [
        "Write a Python program to sum all the items in a list"
      ]
    },
    {
      "cell_type": "code",
      "execution_count": 18,
      "metadata": {
        "id": "wvOA1dGj_GoP",
        "outputId": "c2be2de9-1390-4d67-dc8f-7092122c3210",
        "colab": {
          "base_uri": "https://localhost:8080/"
        }
      },
      "outputs": [
        {
          "output_type": "stream",
          "name": "stdout",
          "text": [
            "29\n"
          ]
        }
      ],
      "source": [
        "def sum_list(l):\n",
        "    sum_l = 0\n",
        "    for i in l:\n",
        "        sum_l += i\n",
        "    return sum_l\n",
        "print(sum_list([10,20,-1]))"
      ]
    },
    {
      "cell_type": "markdown",
      "metadata": {
        "id": "Zupaqle__GoR"
      },
      "source": [
        "## Exercise 4"
      ]
    },
    {
      "cell_type": "markdown",
      "metadata": {
        "id": "KNTvot2V_GoT"
      },
      "source": [
        "Write a program that asks how long it took to run 10 km today. The program continues to ask how long (in minutes) it took for additional runs, until the user enters q. At that point, the program exits — but only after calculating and displaying the average time that the 10 km run took.  \n",
        "\n",
        "\n",
        "Example:\n",
        "```\n",
        "Enter 10 km run time: 15\n",
        "Enter 10 km run time: 20\n",
        "Enter 10 km run time: 10\n",
        "Enter 10 km run time: q\n",
        "\n",
        "Average of 15.0, over 3 runs\n",
        "```"
      ]
    },
    {
      "cell_type": "code",
      "source": [
        "r = 0\n",
        "n = 0\n",
        "while True:\n",
        "    i = input(\"Enter 10 km run time: \")\n",
        "    if i=='q':\n",
        "        break\n",
        "    k = int(i)\n",
        "    r += k\n",
        "    n += 1\n",
        "m =  r / n\n",
        "print(\"Average of \",m,\", over \",n,\" runs\")"
      ],
      "metadata": {
        "id": "0VQIFcU0QxZD",
        "outputId": "8ca3724e-ff29-4929-bad4-79d5890adcd8",
        "colab": {
          "base_uri": "https://localhost:8080/"
        }
      },
      "execution_count": 34,
      "outputs": [
        {
          "output_type": "stream",
          "name": "stdout",
          "text": [
            "Enter 10 km run time: 15\n",
            "Enter 10 km run time: 20\n",
            "Enter 10 km run time: 10\n",
            "Enter 10 km run time: q\n",
            "15.0\n",
            "Average of  15.0 , over  3  runs\n"
          ]
        }
      ]
    },
    {
      "cell_type": "markdown",
      "metadata": {
        "id": "LnGEjmn5_GoY"
      },
      "source": [
        "2## Exercise 5"
      ]
    },
    {
      "cell_type": "markdown",
      "metadata": {
        "id": "OwsxTz_m_GoZ"
      },
      "source": [
        "Write a function that takes a string and returns the sorted string."
      ]
    },
    {
      "cell_type": "code",
      "execution_count": 41,
      "metadata": {
        "id": "2dNIEQkn_Goa",
        "outputId": "4f919e86-1e2f-4c03-8012-48de483ef271",
        "colab": {
          "base_uri": "https://localhost:8080/"
        }
      },
      "outputs": [
        {
          "output_type": "stream",
          "name": "stdout",
          "text": [
            "['a', 'b', 'c']\n"
          ]
        }
      ],
      "source": [
        "def sort_string(s):\n",
        "    leng = len(s)\n",
        "    for i in range(leng) :\n",
        "        for j in range(i+1,leng):\n",
        "            if s[i] >= s[j]:\n",
        "                a = s[i]\n",
        "                s[i]=s[j]\n",
        "                s[j]=a\n",
        "            j += 1\n",
        "        i += 1\n",
        "    return s\n",
        "print(sort_string([\"c\",\"a\",\"b\"]))"
      ]
    },
    {
      "cell_type": "markdown",
      "metadata": {
        "id": "8K6Vx2Ot_Gob"
      },
      "source": [
        "## Exercise 6"
      ]
    },
    {
      "cell_type": "markdown",
      "metadata": {
        "id": "GCDHGowZ_Gob"
      },
      "source": [
        "Write a function that take a string of multiple words and returns the position of the word with most repeated letters"
      ]
    },
    {
      "cell_type": "code",
      "execution_count": 66,
      "metadata": {
        "id": "u9LxG1Tl_Goc",
        "outputId": "4f00f7d4-aba6-4909-8e41-dc022c586e77",
        "colab": {
          "base_uri": "https://localhost:8080/"
        }
      },
      "outputs": [
        {
          "output_type": "stream",
          "name": "stdout",
          "text": [
            "3\n"
          ]
        }
      ],
      "source": [
        "from ast import Index\n",
        "def wwmrl(list_of_words):\n",
        "    result = 0\n",
        "    for index, word in enumerate(list_of_words):\n",
        "        repeated={}\n",
        "        for letter in word:\n",
        "            if letter in repeated:\n",
        "                repeated[letter] += 1\n",
        "            else:\n",
        "                repeated[letter] = 1\n",
        "        max = 0\n",
        "        for j in repeated.values():\n",
        "            if j > max:\n",
        "                max = j\n",
        "        if max > result:\n",
        "            result = index\n",
        "\n",
        "    return result\n",
        "\n",
        "print(wwmrl(['this', 'is', 'an', 'elementary', 'test', 'example']))"
      ]
    },
    {
      "cell_type": "markdown",
      "metadata": {
        "id": "3LV3koFw_Goe"
      },
      "source": [
        "## Exercise 7"
      ]
    },
    {
      "cell_type": "markdown",
      "metadata": {
        "id": "xFE9Urjy_Gof"
      },
      "source": [
        "1. Create a tuple\n",
        "2. Unpack the tuple in multiple variables"
      ]
    },
    {
      "cell_type": "code",
      "execution_count": 74,
      "metadata": {
        "id": "_VkC2PpY_Gof",
        "outputId": "40919fbc-eda4-4660-a6ba-dea97c1dbe3b",
        "colab": {
          "base_uri": "https://localhost:8080/"
        }
      },
      "outputs": [
        {
          "output_type": "stream",
          "name": "stdout",
          "text": [
            "1\n",
            "a\n",
            "8\n"
          ]
        }
      ],
      "source": [
        "mytuple = (1, 'a', 8)\n",
        "x, y, z = mytuple\n",
        "print(x)\n",
        "print(y)\n",
        "print(z)"
      ]
    },
    {
      "cell_type": "markdown",
      "metadata": {
        "id": "nHr38a8e_Gog"
      },
      "source": [
        "## Exercise 8"
      ]
    },
    {
      "cell_type": "markdown",
      "metadata": {
        "id": "1nm66GUC_Gog"
      },
      "source": [
        "Write a Python program to sort a tuple by its float element.  \n",
        "Sample data: `[('item1', '12.20'), ('item2', '15.10'), ('item3', '24.5')]`  \n",
        "Expected Output: `[('item3', '24.5'), ('item2', '15.10'), ('item1', '12.20')]`"
      ]
    },
    {
      "cell_type": "code",
      "execution_count": 75,
      "metadata": {
        "id": "hVVPTCcs_Goh",
        "outputId": "c4e425f8-e3f0-4419-e05d-c4183d1d9a1e",
        "colab": {
          "base_uri": "https://localhost:8080/"
        }
      },
      "outputs": [
        {
          "output_type": "stream",
          "name": "stdout",
          "text": [
            "[('item3', '24.5'), ('item2', '15.10'), ('item1', '12.20')]\n"
          ]
        }
      ],
      "source": [
        "Sample_data = [('item1', '12.20'), ('item2', '15.10'), ('item3', '24.5')]\n",
        "print( sorted(Sample_data, key=lambda x: float(x[1]), reverse=True))"
      ]
    },
    {
      "cell_type": "markdown",
      "metadata": {
        "id": "0B_qv3F9_Goh"
      },
      "source": [
        "## Exercise 9"
      ]
    },
    {
      "cell_type": "markdown",
      "metadata": {
        "id": "nIiOGxDq_Goi"
      },
      "source": [
        "Write a Python script to concatenate dictionaries to create a new one."
      ]
    },
    {
      "cell_type": "code",
      "execution_count": 76,
      "metadata": {
        "id": "rbaKVurn_Goi",
        "outputId": "6b7413a9-edc5-4bfd-80b7-4347fc167ae9",
        "colab": {
          "base_uri": "https://localhost:8080/"
        }
      },
      "outputs": [
        {
          "output_type": "stream",
          "name": "stdout",
          "text": [
            "{1: 10, 2: 20, 3: 30, 4: 40, 5: 50, 6: 60}\n"
          ]
        }
      ],
      "source": [
        "dic1={1:10, 2:20}\n",
        "dic2={3:30, 4:40}\n",
        "dic3={5:50,6:60}\n",
        "dic4 = {}\n",
        "for d in (dic1, dic2, dic3): dic4.update(d)\n",
        "print(dic4)"
      ]
    },
    {
      "cell_type": "markdown",
      "metadata": {
        "id": "kmytPFaw_Goj"
      },
      "source": [
        "## Exercise 10"
      ]
    },
    {
      "cell_type": "markdown",
      "metadata": {
        "id": "YL2vcU7W_Gop"
      },
      "source": [
        "Write a Python program to combine two dictionary adding values for common keys."
      ]
    },
    {
      "cell_type": "code",
      "execution_count": 78,
      "metadata": {
        "id": "cZgj_JAo_Goq",
        "outputId": "53141f20-e04d-4296-ab5d-e813e823d1d2",
        "colab": {
          "base_uri": "https://localhost:8080/"
        }
      },
      "outputs": [
        {
          "output_type": "stream",
          "name": "stdout",
          "text": [
            "{'a': 400, 'b': 400}\n"
          ]
        }
      ],
      "source": [
        "d1 = {'a': 100, 'b': 200, 'c':300}\n",
        "d2 = {'a': 300, 'b': 200, 'd':400}\n",
        "d3 = {}\n",
        "for i, j in d1.items():\n",
        "    for x, y in d2.items():\n",
        "        if i == x:\n",
        "            d3[i]=(j+y)\n",
        "print(d3)"
      ]
    },
    {
      "cell_type": "markdown",
      "metadata": {
        "id": "EP_HZC-C_Goq"
      },
      "source": [
        "## Exercise 11"
      ]
    },
    {
      "cell_type": "markdown",
      "metadata": {
        "id": "bAD0kDcf_Goq"
      },
      "source": [
        "Write a Python program to extract values from a given dictionaries and create a list of lists from those values.\n",
        "\n",
        "Original Dictionary:  \n",
        "`[{'student_id': 1, 'name': 'Jean Castro', 'class': 'V'}, {'student_id': 2, 'name': 'Lula Powell', 'class': 'V'}, {'student_id': 3, 'name': 'Brian Howell', 'class': 'VI'}, {'student_id': 4, 'name': 'Lynne Foster', 'class': 'VI'}, {'student_id': 5, 'name': 'Zachary Simon', 'class': 'VII'}]`  \n",
        "Output:  \n",
        "`[[1, 'Jean Castro', 'V'], [2, 'Lula Powell', 'V'], [3, 'Brian Howell', 'VI'], [4, 'Lynne Foster', 'VI'], [5, 'Zachary Simon', 'VII']]`"
      ]
    },
    {
      "cell_type": "code",
      "execution_count": 71,
      "metadata": {
        "id": "cMN-9_BB_Gor",
        "outputId": "4e743614-2b20-436c-ff32-d9f4b1e54045",
        "colab": {
          "base_uri": "https://localhost:8080/"
        }
      },
      "outputs": [
        {
          "output_type": "stream",
          "name": "stdout",
          "text": [
            "[[1, 'Jean Castro', 'V'], [2, 'Lula Powell', 'V'], [3, 'Brian Howell', 'VI'], [4, 'Lynne Foster', 'VI'], [5, 'Zachary Simon', 'VII']]\n"
          ]
        }
      ],
      "source": [
        "def dict_to_list(list_of_dicts):\n",
        "    result=[]\n",
        "    for dictionnary in list_of_dicts:\n",
        "        temp=[]\n",
        "        for value in dictionnary.values():\n",
        "            temp.append(value)\n",
        "        result.append(temp)\n",
        "    return result\n",
        "\n",
        "\n",
        "data = [{'student_id': 1, 'name': 'Jean Castro', 'class': 'V'}, {'student_id': 2, 'name': 'Lula Powell', 'class': 'V'}, {'student_id': 3, 'name': 'Brian Howell', 'class': 'VI'}, {'student_id': 4, 'name': 'Lynne Foster', 'class': 'VI'}, {'student_id': 5, 'name': 'Zachary Simon', 'class': 'VII'}]\n",
        "print(dict_to_list(data))"
      ]
    }
  ],
  "metadata": {
    "kernelspec": {
      "display_name": "Python 3.10.4 64-bit",
      "language": "python",
      "name": "python3"
    },
    "language_info": {
      "codemirror_mode": {
        "name": "ipython",
        "version": 3
      },
      "file_extension": ".py",
      "mimetype": "text/x-python",
      "name": "python",
      "nbconvert_exporter": "python",
      "pygments_lexer": "ipython3",
      "version": "3.10.4"
    },
    "orig_nbformat": 4,
    "vscode": {
      "interpreter": {
        "hash": "916dbcbb3f70747c44a77c7bcd40155683ae19c65e1c03b4aa3499c5328201f1"
      }
    },
    "colab": {
      "provenance": [],
      "include_colab_link": true
    }
  },
  "nbformat": 4,
  "nbformat_minor": 0
}