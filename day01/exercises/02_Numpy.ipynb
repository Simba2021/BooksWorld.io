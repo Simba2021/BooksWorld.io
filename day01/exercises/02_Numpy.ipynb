{
  "cells": [
    {
      "cell_type": "markdown",
      "metadata": {
        "id": "view-in-github",
        "colab_type": "text"
      },
      "source": [
        "<a href=\"https://colab.research.google.com/github/Simba2021/BooksWorld.io/blob/main/day01/exercises/02_Numpy.ipynb\" target=\"_parent\"><img src=\"https://colab.research.google.com/assets/colab-badge.svg\" alt=\"Open In Colab\"/></a>"
      ]
    },
    {
      "cell_type": "markdown",
      "metadata": {
        "id": "o5g2ARnlywgC"
      },
      "source": [
        "# Exercices for Numpy"
      ]
    },
    {
      "cell_type": "markdown",
      "metadata": {
        "id": "f384Ncw8ywgH"
      },
      "source": [
        "1- Import numpy as `np` and print the version number. "
      ]
    },
    {
      "cell_type": "code",
      "execution_count": 1,
      "metadata": {
        "id": "m6d5Qr-wywgI",
        "outputId": "96891fed-e4b9-4ff2-9e65-3f5735a24b68",
        "colab": {
          "base_uri": "https://localhost:8080/"
        }
      },
      "outputs": [
        {
          "output_type": "stream",
          "name": "stdout",
          "text": [
            "1.21.6\n"
          ]
        }
      ],
      "source": [
        "import numpy as np\n",
        "print(np.__version__)"
      ]
    },
    {
      "cell_type": "markdown",
      "metadata": {
        "id": "oXGEeTFKywgK"
      },
      "source": [
        "2- Create a 1D array of numbers from 0 to 9 \n",
        "- Desired output:\n",
        "```Python\n",
        "#> array([0, 1, 2, 3, 4, 5, 6, 7, 8, 9])\n",
        "```"
      ]
    },
    {
      "cell_type": "code",
      "execution_count": 8,
      "metadata": {
        "id": "3LT-zncMywgL",
        "outputId": "78bf4b98-fd2d-416b-f622-4a4b79377a39",
        "colab": {
          "base_uri": "https://localhost:8080/"
        }
      },
      "outputs": [
        {
          "output_type": "execute_result",
          "data": {
            "text/plain": [
              "array([0, 1, 2, 3, 4, 5, 6, 7, 8, 9])"
            ]
          },
          "metadata": {},
          "execution_count": 8
        }
      ],
      "source": [
        "array1 = np.arange(10)\n",
        "array1"
      ]
    },
    {
      "cell_type": "markdown",
      "metadata": {
        "id": "KXpoT3GAywgM"
      },
      "source": [
        "3- Create a 3×3 numpy array of all True’s\n",
        "- Desired output:\n",
        "```Python\n",
        "#> array([[ True,  True,  True],\n",
        "#>        [ True,  True,  True],\n",
        "#>        [ True,  True,  True]], dtype=bool)\n",
        "```"
      ]
    },
    {
      "cell_type": "code",
      "execution_count": 50,
      "metadata": {
        "id": "8TgXPNMzywgN",
        "outputId": "2c288cc7-d891-450c-f598-4968fd21e6b3",
        "colab": {
          "base_uri": "https://localhost:8080/"
        }
      },
      "outputs": [
        {
          "output_type": "stream",
          "name": "stdout",
          "text": [
            "[[ True  True  True]\n",
            " [ True  True  True]\n",
            " [ True  True  True]] , dtype= bool\n"
          ]
        }
      ],
      "source": [
        "# Your code here\n",
        "l=np.random.choice(a=[True],size=[3,3])\n",
        "print(l,\", dtype=\",l[0].dtype)"
      ]
    },
    {
      "cell_type": "markdown",
      "metadata": {
        "id": "1qCJr2ZaywgO"
      },
      "source": [
        "4- Extract all odd numbers from `arr` \n",
        "- Input:\n",
        "```Python\n",
        "#> arr = np.array([0, 1, 2, 3, 4, 5, 6, 7, 8, 9])\n",
        "```\n",
        "- Desired output:\n",
        "```Python\n",
        "#> array([1, 3, 5, 7, 9])\n",
        "```"
      ]
    },
    {
      "cell_type": "code",
      "execution_count": 15,
      "metadata": {
        "id": "3JnImJ2qywgP",
        "outputId": "f33eb962-01c3-4746-973c-a3934878202c",
        "colab": {
          "base_uri": "https://localhost:8080/"
        }
      },
      "outputs": [
        {
          "output_type": "execute_result",
          "data": {
            "text/plain": [
              "array([1, 3, 5, 7, 7, 9])"
            ]
          },
          "metadata": {},
          "execution_count": 15
        }
      ],
      "source": [
        "# Your code here\n",
        "a = np.array([1,2,3,4,5,6,6,7,7,8,9])\n",
        "a[a % 2 == 1]"
      ]
    },
    {
      "cell_type": "markdown",
      "metadata": {
        "id": "2DgGVAr2ywgR"
      },
      "source": [
        "5- Replace all odd numbers in arr with -1\n",
        "- Input:\n",
        "```Python\n",
        "#> arr = np.array([0, 1, 2, 3, 4, 5, 6, 7, 8, 9])\n",
        "```\n",
        "- Desired output:\n",
        "```Python\n",
        "#>  array([ 0, -1,  2, -1,  4, -1,  6, -1,  8, -1])\n",
        "```"
      ]
    },
    {
      "cell_type": "code",
      "execution_count": 18,
      "metadata": {
        "id": "vx3oO98gywgR",
        "outputId": "7a77b5fc-8696-4dea-8ece-8de1b56def9e",
        "colab": {
          "base_uri": "https://localhost:8080/"
        }
      },
      "outputs": [
        {
          "output_type": "execute_result",
          "data": {
            "text/plain": [
              "array([ 0, -1,  2, -1,  4, -1,  6, -1,  8, -1])"
            ]
          },
          "metadata": {},
          "execution_count": 18
        }
      ],
      "source": [
        "# Your code here\n",
        "a5 = np.array([0, 1, 2, 3, 4, 5, 6, 7, 8, 9])\n",
        "def negate(i):\n",
        "    if i % 2 == 1:\n",
        "        return -1\n",
        "    return i\n",
        "applyall = np.vectorize(negate)\n",
        "a5 = applyall(a5)\n",
        "a5"
      ]
    },
    {
      "cell_type": "markdown",
      "metadata": {
        "id": "X-Zy9lW15I4n"
      },
      "source": [
        "5- Replace all odd numbers in arr with -1\n",
        "- Input:\n",
        "```Python\n",
        "#> arr = np.array([0, 1, 2, 3, 4, 5, 6, 7, 8, 9])\n",
        "```\n",
        "- Desired output:\n",
        "```Python\n",
        "#>  array([ 0, -1,  2, -1,  4, -1,  6, -1,  8, -1])\n",
        "```"
      ]
    },
    {
      "cell_type": "code",
      "source": [
        "# Your code here\n",
        "a52 = np.array([0, 1, 2, 3, 4, 5, 6, 7, 8, 9])\n",
        "def negate(i):\n",
        "    if i % 2 == 1:\n",
        "        return -1\n",
        "    return i\n",
        "applyall = np.vectorize(negate)\n",
        "a52 = applyall(a5)\n",
        "a52"
      ],
      "metadata": {
        "id": "LP1Ukh475USI",
        "outputId": "a5966644-9abc-44e0-eaea-dbea45a21970",
        "colab": {
          "base_uri": "https://localhost:8080/"
        }
      },
      "execution_count": 19,
      "outputs": [
        {
          "output_type": "execute_result",
          "data": {
            "text/plain": [
              "array([ 0, -1,  2, -1,  4, -1,  6, -1,  8, -1])"
            ]
          },
          "metadata": {},
          "execution_count": 19
        }
      ]
    },
    {
      "cell_type": "markdown",
      "metadata": {
        "id": "l315xRKDywgS"
      },
      "source": [
        "6- Replace all odd numbers in arr with -1 without changing `arr` \n",
        "- Input:\n",
        "```Python\n",
        "#> arr = np.array([0, 1, 2, 3, 4, 5, 6, 7, 8, 9])\n",
        "```\n",
        "- Desired output:\n",
        "```Python\n",
        "out\n",
        "#>  array([ 0, -1,  2, -1,  4, -1,  6, -1,  8, -1])\n",
        "arr\n",
        "#>  array([0, 1, 2, 3, 4, 5, 6, 7, 8, 9])\n",
        "```"
      ]
    },
    {
      "cell_type": "code",
      "execution_count": 24,
      "metadata": {
        "id": "17ARcY02ywgT",
        "outputId": "cc2645df-fec7-4d1b-fd03-b37db16dccaf",
        "colab": {
          "base_uri": "https://localhost:8080/"
        }
      },
      "outputs": [
        {
          "output_type": "execute_result",
          "data": {
            "text/plain": [
              "array([ 0, -1,  2, -1,  4, -1,  6, -1,  8, -1])"
            ]
          },
          "metadata": {},
          "execution_count": 24
        }
      ],
      "source": [
        "# Your code here\n",
        "# Your code here\n",
        "a6 = np.array([0, 1, 2, 3, 4, 5, 6, 7, 8, 9])\n",
        "a61 = np.copy(a6)\n",
        "def negate(i):\n",
        "    if i % 2 == 1:\n",
        "        return -1\n",
        "    return i\n",
        "applyall = np.vectorize(negate)\n",
        "a61 = applyall(a61)\n",
        "a61"
      ]
    },
    {
      "cell_type": "markdown",
      "metadata": {
        "id": "Ddn0HSRJywgU"
      },
      "source": [
        "7- Convert a 1D array to a 2D array with 2 rows\n",
        "- Input:\n",
        "```Python\n",
        "#> arr = np.array([0, 1, 2, 3, 4, 5, 6, 7, 8, 9])\n",
        "\n",
        "1.   Élément de liste\n",
        "2.   Élément de liste\n",
        "\n",
        "\n",
        "```\n",
        "- Desired output:\n",
        "```Python\n",
        "#> array([[0, 1, 2, 3, 4],\n",
        "#>        [5, 6, 7, 8, 9]])\n",
        "```"
      ]
    },
    {
      "cell_type": "code",
      "execution_count": 32,
      "metadata": {
        "id": "Yc_HDPEKywgV",
        "outputId": "1b02ae3f-0bdd-4b9c-9ec5-b5987ed1a57c",
        "colab": {
          "base_uri": "https://localhost:8080/"
        }
      },
      "outputs": [
        {
          "output_type": "execute_result",
          "data": {
            "text/plain": [
              "array([[0, 1, 2, 3, 4],\n",
              "       [5, 6, 7, 8, 9]])"
            ]
          },
          "metadata": {},
          "execution_count": 32
        }
      ],
      "source": [
        "arr7 = np.array([0, 1, 2, 3, 4, 5, 6, 7, 8, 9])\n",
        "arr7 = np.reshape(arr7, (-1, 5))\n",
        "arr7"
      ]
    },
    {
      "cell_type": "markdown",
      "metadata": {
        "id": "qOw_K8OFywgW"
      },
      "source": [
        "8- Stack arrays `a` and `b` vertically \n",
        "- Input\n",
        "```Python\n",
        "a = np.arange(10).reshape(2,-1)\n",
        "b = np.repeat(1, 10).reshape(2,-1)\n",
        "```\n",
        "- Desired output:\n",
        "```Python\n",
        "#> array([[0, 1, 2, 3, 4],\n",
        "#>        [5, 6, 7, 8, 9],\n",
        "#>        [1, 1, 1, 1, 1],\n",
        "#>        [1, 1, 1, 1, 1]])\n",
        "```"
      ]
    },
    {
      "cell_type": "code",
      "execution_count": 37,
      "metadata": {
        "id": "OlZYn_rPywgX",
        "outputId": "5336999a-0830-41dc-c532-466693e390dd",
        "colab": {
          "base_uri": "https://localhost:8080/"
        }
      },
      "outputs": [
        {
          "output_type": "execute_result",
          "data": {
            "text/plain": [
              "array([[0, 1, 2, 3, 4],\n",
              "       [5, 6, 7, 8, 9],\n",
              "       [1, 1, 1, 1, 1],\n",
              "       [1, 1, 1, 1, 1]])"
            ]
          },
          "metadata": {},
          "execution_count": 37
        }
      ],
      "source": [
        "# Your code here\n",
        "a = np.arange(10).reshape(2,-1)\n",
        "b = np.repeat(1, 10).reshape(2,-1)\n",
        "np.vstack((a,b))"
      ]
    },
    {
      "cell_type": "markdown",
      "metadata": {
        "id": "rTbyKJ53ywgY"
      },
      "source": [
        "9- Stack the arrays a and b horizontally.\n",
        "- Input\n",
        "```Python\n",
        "a = np.arange(10).reshape(2,-1)\n",
        "b = np.repeat(1, 10).reshape(2,-1)\n",
        "```\n",
        "- Desired output:\n",
        "```Python\n",
        "#> array([[0, 1, 2, 3, 4, 1, 1, 1, 1, 1],\n",
        "#>        [5, 6, 7, 8, 9, 1, 1, 1, 1, 1]])\n",
        "```"
      ]
    },
    {
      "cell_type": "code",
      "execution_count": 38,
      "metadata": {
        "id": "3IxGCpioywgZ",
        "outputId": "cf5a8e5f-e18b-4095-931a-9c144738d045",
        "colab": {
          "base_uri": "https://localhost:8080/"
        }
      },
      "outputs": [
        {
          "output_type": "execute_result",
          "data": {
            "text/plain": [
              "array([[0, 1, 2, 3, 4, 1, 1, 1, 1, 1],\n",
              "       [5, 6, 7, 8, 9, 1, 1, 1, 1, 1]])"
            ]
          },
          "metadata": {},
          "execution_count": 38
        }
      ],
      "source": [
        "# Your code here\n",
        "a = np.arange(10).reshape(2,-1)\n",
        "b = np.repeat(1, 10).reshape(2,-1)\n",
        "np.hstack((a,b))"
      ]
    },
    {
      "cell_type": "markdown",
      "metadata": {
        "id": "13LvN1-gywga"
      },
      "source": [
        "10- Get the common items between `a` and `b` \n",
        "- Input\n",
        "```Python\n",
        "a = np.array([1,2,3,4,5])\n",
        "b = np.array([5,6,7,8,9])\n",
        "```\n",
        "- Desired output:\n",
        "```Python\n",
        "#> array([2, 4])\n",
        "```"
      ]
    },
    {
      "cell_type": "code",
      "execution_count": 39,
      "metadata": {
        "id": "vPclJjuGywga",
        "outputId": "ee117acc-afde-482a-e9b5-eae7cdfe6479",
        "colab": {
          "base_uri": "https://localhost:8080/"
        }
      },
      "outputs": [
        {
          "output_type": "execute_result",
          "data": {
            "text/plain": [
              "array([5])"
            ]
          },
          "metadata": {},
          "execution_count": 39
        }
      ],
      "source": [
        "# Your code here\n",
        "a = np.array([1,2,3,4,5])\n",
        "b = np.array([5,6,7,8,9])\n",
        "np.intersect1d(a,b)"
      ]
    },
    {
      "cell_type": "markdown",
      "metadata": {
        "id": "Clnnf6Gpywgb"
      },
      "source": [
        "11- From array `a` remove all items present in array `b` \n",
        "- Input\n",
        "```Python\n",
        "a = np.array([1,2,3,4,5])\n",
        "b = np.array([5,6,7,8,9])\n",
        "```\n",
        "- Desired output:\n",
        "```Python\n",
        "#> array([1,2,3,4])\n",
        "```"
      ]
    },
    {
      "cell_type": "code",
      "execution_count": 40,
      "metadata": {
        "id": "VlFsiFnoywgb",
        "outputId": "3b5ac67a-c309-4229-b37c-986731b48b76",
        "colab": {
          "base_uri": "https://localhost:8080/"
        }
      },
      "outputs": [
        {
          "output_type": "execute_result",
          "data": {
            "text/plain": [
              "array([1, 2, 3, 4])"
            ]
          },
          "metadata": {},
          "execution_count": 40
        }
      ],
      "source": [
        "# Your code here\n",
        "a = np.array([1,2,3,4,5])\n",
        "b = np.array([5,6,7,8,9])\n",
        "np.setdiff1d(a, b)"
      ]
    },
    {
      "cell_type": "markdown",
      "metadata": {
        "id": "Mf8CnDezywgb"
      },
      "source": [
        "12- Get the positions where elements of `a` and `b` match\n",
        "- Input\n",
        "```Python\n",
        "a = np.array([1,2,3,2,3,4,3,4,5,6])\n",
        "b = np.array([7,2,10,2,7,4,9,4,9,8])\n",
        "```\n",
        "- Desired output:\n",
        "```Python\n",
        "#> (array([1, 3, 5, 7]),)\n",
        "```"
      ]
    },
    {
      "cell_type": "code",
      "execution_count": 51,
      "metadata": {
        "id": "9YExJ25Uywgc",
        "outputId": "ed3a7a03-13f3-47d4-efd1-44533b9b6570",
        "colab": {
          "base_uri": "https://localhost:8080/"
        }
      },
      "outputs": [
        {
          "output_type": "execute_result",
          "data": {
            "text/plain": [
              "(array([1, 3, 5, 7]),)"
            ]
          },
          "metadata": {},
          "execution_count": 51
        }
      ],
      "source": [
        "# Your code here\n",
        "a = np.array([1,2,3,2,3,4,3,4,5,6])\n",
        "b = np.array([7,2,10,2,7,4,9,4,9,8])\n",
        "np.where(a==b)"
      ]
    },
    {
      "cell_type": "markdown",
      "metadata": {
        "id": "wy0H30pKywgd"
      },
      "source": [
        "13- Get all items between 5 and 10 from `a`\n",
        "- Input\n",
        "```Python\n",
        "a = np.array([2, 6, 1, 9, 10, 3, 27])\n",
        "```\n",
        "- Desired output:\n",
        "```Python\n",
        "#> (array([6, 9, 10]),)\n",
        "```"
      ]
    },
    {
      "cell_type": "code",
      "execution_count": 52,
      "metadata": {
        "id": "TOF6d50Fywgd",
        "outputId": "91a86645-c817-47c1-8294-782b5bfdbba5",
        "colab": {
          "base_uri": "https://localhost:8080/"
        }
      },
      "outputs": [
        {
          "output_type": "execute_result",
          "data": {
            "text/plain": [
              "array([ 6,  9, 10])"
            ]
          },
          "metadata": {},
          "execution_count": 52
        }
      ],
      "source": [
        "# Your code here\n",
        "a = np.array([2, 6, 1, 9, 10, 3, 27])\n",
        "a[np.where((a>=5) & (a<=10))]"
      ]
    },
    {
      "cell_type": "markdown",
      "metadata": {
        "id": "8ktciUSSywge"
      },
      "source": [
        "14- Convert the function `maxx` that works on two scalars, to work on two arrays\n",
        "- Input\n",
        "```Python\n",
        "def maxx(x, y):\n",
        "    \"\"\"Get the maximum of two items\"\"\"\n",
        "    if x >= y:\n",
        "        return x\n",
        "    else:\n",
        "        return y\n",
        "```\n",
        "```Python\n",
        "maxx(1, 5)\n",
        "#> 5\n",
        "```\n",
        "\n",
        "- Desired output:\n",
        "\n",
        "```Python\n",
        "a = np.array([5, 7, 9, 8, 6, 4, 5])\n",
        "b = np.array([6, 3, 4, 8, 9, 7, 1])\n",
        "pair_max(a, b)\n",
        "#> array([ 6.,  7.,  9.,  8.,  9.,  7.,  5.])\n",
        "```"
      ]
    },
    {
      "cell_type": "code",
      "execution_count": 54,
      "metadata": {
        "id": "jk4cw1WQywge",
        "outputId": "d9a0a885-f077-49df-b581-e694d1f770c7",
        "colab": {
          "base_uri": "https://localhost:8080/"
        }
      },
      "outputs": [
        {
          "output_type": "execute_result",
          "data": {
            "text/plain": [
              "array([6., 7., 9., 8., 9., 7., 5.])"
            ]
          },
          "metadata": {},
          "execution_count": 54
        }
      ],
      "source": [
        "# Your code here\n",
        "def maxx(x, y):\n",
        "    if x >= y:\n",
        "        return x\n",
        "    else:\n",
        "        return y\n",
        "pair_maxx=np.vectorize(maxx, otypes=[float])\n",
        "a = np.array([5, 7, 9, 8, 6, 4, 5])\n",
        "b = np.array([6, 3, 4, 8, 9, 7, 1])\n",
        "pair_maxx(a, b)"
      ]
    },
    {
      "cell_type": "markdown",
      "metadata": {
        "id": "Iqky_M2Nywgf"
      },
      "source": [
        "15- Reverse the rows of a 2D array `arr`\n",
        "- Input\n",
        "```Python\n",
        "arr = np.arange(9).reshape(3,3)\n",
        "```\n",
        "- Desired output:\n",
        "```Python\n",
        "#> array([[6, 7, 8],\n",
        "#>       [3, 4, 5],\n",
        "#>       [0, 1, 2]])\n",
        "```"
      ]
    },
    {
      "cell_type": "code",
      "execution_count": 73,
      "metadata": {
        "id": "mUc1Bannywgg",
        "outputId": "6150b86b-7687-4298-9b42-fb32e540c094",
        "colab": {
          "base_uri": "https://localhost:8080/"
        }
      },
      "outputs": [
        {
          "output_type": "execute_result",
          "data": {
            "text/plain": [
              "array([[2, 1, 0],\n",
              "       [5, 4, 3],\n",
              "       [8, 7, 6]])"
            ]
          },
          "metadata": {},
          "execution_count": 73
        }
      ],
      "source": [
        "# Your code here\n",
        "arr15 = np.arange(9).reshape(3,3)\n",
        "arr15=np.flip(arr16, axis = 1)\n",
        "arr15"
      ]
    },
    {
      "cell_type": "markdown",
      "metadata": {
        "id": "B4xvv--Aywgh"
      },
      "source": [
        "16- Reverse the columns of a 2D array `arr`\n",
        "- Input\n",
        "```Python\n",
        "arr = np.arange(9).reshape(3,3)\n",
        "```\n",
        "- Desired output:\n",
        "```Python\n",
        "#> array([[6, 7, 8],\n",
        "#>       [3, 4, 5],\n",
        "#>       [0, 1, 2]]\n",
        "```"
      ]
    },
    {
      "cell_type": "code",
      "execution_count": 67,
      "metadata": {
        "id": "a9PZYVWcywgh",
        "outputId": "eca1f9e1-c8fa-4800-b852-0a2602e16d00",
        "colab": {
          "base_uri": "https://localhost:8080/"
        }
      },
      "outputs": [
        {
          "output_type": "execute_result",
          "data": {
            "text/plain": [
              "array([[6, 7, 8],\n",
              "       [3, 4, 5],\n",
              "       [0, 1, 2]])"
            ]
          },
          "metadata": {},
          "execution_count": 67
        }
      ],
      "source": [
        "# Your code here\n",
        "arr16 = np.arange(9).reshape(3,3)\n",
        "arr16 = arr16[::-1]\n",
        "arr16"
      ]
    },
    {
      "cell_type": "markdown",
      "metadata": {
        "id": "NSIQd-FEywgh"
      },
      "source": [
        "17- Create a 2D array of shape 5×3 to contain random decimal numbers between 5 and 10 (use `np.random.seed()` to generate the same random output).\n",
        "- Desired output: (for seed number equal 10)\n",
        "```Python\n",
        "#> array([[6.15037787, 9.68381843, 5.81660184],\n",
        "#>       [6.33607158, 8.89081653, 9.19812181],\n",
        "#>       [6.03061665, 5.87761494, 6.72743551],\n",
        "#>       [7.54088093, 5.13145815, 6.41366737],\n",
        "#>       [5.77872881, 7.58390137, 5.18263144]])\n",
        "```"
      ]
    },
    {
      "cell_type": "code",
      "execution_count": 85,
      "metadata": {
        "id": "FRLCz-uuywgi",
        "outputId": "034e4ebb-6c53-4113-fefb-e490db603439",
        "colab": {
          "base_uri": "https://localhost:8080/"
        }
      },
      "outputs": [
        {
          "output_type": "execute_result",
          "data": {
            "text/plain": [
              "array([[6.15037787, 9.68381843, 5.81660184],\n",
              "       [6.33607158, 8.89081653, 9.19812181],\n",
              "       [6.03061665, 5.87761494, 6.72743551],\n",
              "       [7.54088093, 5.13145815, 6.41366737],\n",
              "       [5.77872881, 7.58390137, 5.18263144]])"
            ]
          },
          "metadata": {},
          "execution_count": 85
        }
      ],
      "source": [
        "# Your code here\n",
        "np.random.seed(10)\n",
        "np.random.randint(low=5,high=10,size=(5,3))+np.random.random((5,3))"
      ]
    },
    {
      "cell_type": "markdown",
      "metadata": {
        "id": "4ykYUGCJywgj"
      },
      "source": [
        "18- Print or show only 3 decimal places of the numpy array `rand_arr`\n",
        "- Input\n",
        "```Python\n",
        "rand_arr = np.random.random((5,3))\n",
        "```\n",
        "- Desired output:\n",
        "```Python\n",
        "rand_arr[:4]\n",
        "#> array([[ 0.443,  0.109,  0.97 ],\n",
        "#>        [ 0.388,  0.447,  0.191],\n",
        "#>        [ 0.891,  0.474,  0.212],\n",
        "#>        [ 0.609,  0.518,  0.403]])\n",
        "```"
      ]
    },
    {
      "cell_type": "code",
      "execution_count": 88,
      "metadata": {
        "id": "h6PlGmU3ywgj",
        "outputId": "a39e49e0-b71b-43bd-e404-315bbe97c2d9",
        "colab": {
          "base_uri": "https://localhost:8080/"
        }
      },
      "outputs": [
        {
          "output_type": "execute_result",
          "data": {
            "text/plain": [
              "array([[0.771, 0.021, 0.634],\n",
              "       [0.749, 0.499, 0.225],\n",
              "       [0.198, 0.761, 0.169],\n",
              "       [0.088, 0.685, 0.953]])"
            ]
          },
          "metadata": {},
          "execution_count": 88
        }
      ],
      "source": [
        "# Your code here\n",
        "np.random.seed(10)\n",
        "rand_arr = np.random.random((5,3))\n",
        "np.set_printoptions(precision=3)\n",
        "rand_arr[:4]"
      ]
    },
    {
      "cell_type": "markdown",
      "metadata": {
        "id": "oW6f0Fdjywgk"
      },
      "source": [
        "19- Pretty print `rand_arr` by suppressing the scientific notation (like 1e10) \n",
        "- Input\n",
        "\n",
        "```Python\n",
        "# Create the random array\n",
        "np.random.seed(100)\n",
        "rand_arr = np.random.random([3,3])/1e3\n",
        "```\n",
        "```Python\n",
        "rand_arr\n",
        "\n",
        "#> array([[  5.434049e-04,   2.783694e-04,   4.245176e-04],\n",
        "#>        [  8.447761e-04,   4.718856e-06,   1.215691e-04],\n",
        "#>        [  6.707491e-04,   8.258528e-04,   1.367066e-04]])\n",
        "```\n",
        "\n",
        "- Desired output:\n",
        "```python\n",
        "#> array([[ 0.000543,  0.000278,  0.000425],\n",
        "#>        [ 0.000845,  0.000005,  0.000122],\n",
        "#>        [ 0.000671,  0.000826,  0.000137]])\n",
        "```"
      ]
    },
    {
      "cell_type": "code",
      "execution_count": 89,
      "metadata": {
        "id": "BtVREKp8ywgk",
        "outputId": "398ee4a9-57d8-4ecc-f8dd-06dcdff095df",
        "colab": {
          "base_uri": "https://localhost:8080/"
        }
      },
      "outputs": [
        {
          "output_type": "execute_result",
          "data": {
            "text/plain": [
              "array([[0.000543, 0.000278, 0.000425],\n",
              "       [0.000845, 0.000005, 0.000122],\n",
              "       [0.000671, 0.000826, 0.000137]])"
            ]
          },
          "metadata": {},
          "execution_count": 89
        }
      ],
      "source": [
        "# Your code here\n",
        "np.random.seed(100)\n",
        "rand_arr = np.random.random([3,3])/1e3\n",
        "np.set_printoptions(suppress=True, precision=6) # used to suppress scientific notation, its put on false by default\n",
        "rand_arr"
      ]
    },
    {
      "cell_type": "markdown",
      "metadata": {
        "id": "rThuHM4cywgm"
      },
      "source": [
        "20- Limit the number of items printed in python numpy array a to a maximum of 6 elements.\n",
        "- Input:\n",
        "```Python\n",
        "a = np.arange(15)\n",
        "#> array([ 0,  1,  2,  3,  4,  5,  6,  7,  8,  9, 10, 11, 12, 13, 14])\n",
        "```\n",
        "- Desired output:\n",
        "```Python\n",
        "#> array([ 0,  1,  2, ..., 12, 13, 14])\n",
        "```"
      ]
    },
    {
      "cell_type": "code",
      "execution_count": 90,
      "metadata": {
        "id": "ETvXUogLywgn",
        "outputId": "7523931c-109c-4871-aee1-0efdf1dc26a4",
        "colab": {
          "base_uri": "https://localhost:8080/"
        }
      },
      "outputs": [
        {
          "output_type": "execute_result",
          "data": {
            "text/plain": [
              "array([ 0,  1,  2, ..., 12, 13, 14])"
            ]
          },
          "metadata": {},
          "execution_count": 90
        }
      ],
      "source": [
        "# Your code here\n",
        "arr20 = np.arange(15)\n",
        "np.set_printoptions(threshold=6)\n",
        "arr20"
      ]
    },
    {
      "cell_type": "markdown",
      "metadata": {
        "id": "HaydO02Uywgn"
      },
      "source": [
        "21- Convert the 1D iris to 2D array iris_2d by omitting the species text field.\n",
        "- Input:\n",
        "```Python\n",
        "url = 'https://archive.ics.uci.edu/ml/machine-learning-databases/iris/iris.data'\n",
        "iris_1d = np.genfromtxt(url, delimiter=',', dtype=None)\n",
        "```\n",
        "- Desired output:\n",
        "```Python\n",
        "#> array([[ 5.1,  3.5,  1.4,  0.2],\n",
        "#>        [ 4.9,  3. ,  1.4,  0.2],\n",
        "#>        [ 4.7,  3.2,  1.3,  0.2],\n",
        "#>        [ 4.6,  3.1,  1.5,  0.2]])\n",
        "```"
      ]
    },
    {
      "cell_type": "code",
      "execution_count": 95,
      "metadata": {
        "id": "wVJo69B1ywgo",
        "outputId": "0ab5cfbf-ce2a-48e9-bd7f-fd1941ff139c",
        "colab": {
          "base_uri": "https://localhost:8080/"
        }
      },
      "outputs": [
        {
          "output_type": "stream",
          "name": "stderr",
          "text": [
            "/usr/local/lib/python3.7/dist-packages/ipykernel_launcher.py:3: VisibleDeprecationWarning: Reading unicode strings without specifying the encoding argument is deprecated. Set the encoding, use None for the system default.\n",
            "  This is separate from the ipykernel package so we can avoid doing imports until\n"
          ]
        },
        {
          "output_type": "execute_result",
          "data": {
            "text/plain": [
              "array([[5.1, 3.5, 1.4, 0.2],\n",
              "       [4.9, 3. , 1.4, 0.2],\n",
              "       [4.7, 3.2, 1.3, 0.2],\n",
              "       [4.6, 3.1, 1.5, 0.2]])"
            ]
          },
          "metadata": {},
          "execution_count": 95
        }
      ],
      "source": [
        "# Your code here\n",
        "url = 'https://archive.ics.uci.edu/ml/machine-learning-databases/iris/iris.data'\n",
        "iris = np.genfromtxt(url, delimiter=',', dtype=None)\n",
        "iris1 = np.array([row.tolist()[:4] for row in iris])\n",
        "iris1[:4]"
      ]
    },
    {
      "cell_type": "markdown",
      "metadata": {
        "id": "iH9GwYJ8ywgo"
      },
      "source": [
        "22- Find the mean, median, standard deviation of iris's sepallength (1st column)\n",
        "- Input:\n",
        "```Python\n",
        "url = 'https://archive.ics.uci.edu/ml/machine-learning-databases/iris/iris.data'\n",
        "iris = np.genfromtxt(url, delimiter=',', dtype='object')\n",
        "```\n",
        "- Desired output:\n",
        "```Python\n",
        "print(mean, median, sd)\n",
        "#> 5.84333333333 5.8 0.825301291785\n",
        "```"
      ]
    },
    {
      "cell_type": "code",
      "execution_count": 92,
      "metadata": {
        "id": "AvS-aOTsywgo",
        "outputId": "43c0c749-2198-46a9-c508-f2b9d022ec18",
        "colab": {
          "base_uri": "https://localhost:8080/"
        }
      },
      "outputs": [
        {
          "output_type": "stream",
          "name": "stdout",
          "text": [
            "5.843333333333334   5.8   0.8253012917851409\n"
          ]
        }
      ],
      "source": [
        "# Your code here\n",
        "url = 'https://archive.ics.uci.edu/ml/machine-learning-databases/iris/iris.data'\n",
        "iris = np.genfromtxt(url, delimiter=',', dtype='float', usecols=[0])\n",
        "mn=np.mean(iris)\n",
        "mdn=np.median(iris)\n",
        "sd=np.std(iris)\n",
        "print(mn,\" \",mdn,\" \",sd)"
      ]
    },
    {
      "cell_type": "markdown",
      "metadata": {
        "id": "ibosvA83ywgp"
      },
      "source": [
        "23- Create a normalized form of iris‘s sepallength whose values range exactly between 0 and 1 so that the minimum has value 0 and maximum has value 1.\n",
        "- Input:\n",
        "```Python\n",
        "url = 'https://archive.ics.uci.edu/ml/machine-learning-databases/iris/iris.data'\n",
        "iris = np.genfromtxt(url, delimiter=',', dtype='object')\n",
        "```\n",
        "- Desired output:\n",
        "```Python\n",
        "print(S)\n",
        "#> [ 0.222  0.167  0.111  0.083  0.194  0.306  0.083  0.194  0.028  0.167\n",
        "#>   0.306  0.139  0.139  0.     0.417  0.389  0.306  0.222  0.389  0.222\n",
        "#>   0.306  0.222  0.083  0.222  0.139  0.194  0.194  0.25   0.25   0.111\n",
        "#>   0.139  0.306  0.25   0.333  0.167  0.194  0.333  0.167  0.028  0.222\n",
        "#>   0.194  0.056  0.028  0.194  0.222  0.139  0.222  0.083  0.278  0.194\n",
        "#>   0.75   0.583  0.722  0.333  0.611  0.389  0.556  0.167  0.639  0.25\n",
        "#>   0.194  0.444  0.472  0.5    0.361  0.667  0.361  0.417  0.528  0.361\n",
        "#>   0.444  0.5    0.556  0.5    0.583  0.639  0.694  0.667  0.472  0.389\n",
        "#>   0.333  0.333  0.417  0.472  0.306  0.472  0.667  0.556  0.361  0.333\n",
        "#>   0.333  0.5    0.417  0.194  0.361  0.389  0.389  0.528  0.222  0.389\n",
        "#>   0.556  0.417  0.778  0.556  0.611  0.917  0.167  0.833  0.667  0.806\n",
        "#>   0.611  0.583  0.694  0.389  0.417  0.583  0.611  0.944  0.944  0.472\n",
        "#>   0.722  0.361  0.944  0.556  0.667  0.806  0.528  0.5    0.583  0.806\n",
        "#>   0.861  1.     0.583  0.556  0.5    0.944  0.556  0.583  0.472  0.722\n",
        "#>   0.667  0.722  0.417  0.694  0.667  0.667  0.556  0.611  0.528  0.444]\n",
        "```"
      ]
    },
    {
      "cell_type": "code",
      "execution_count": 110,
      "metadata": {
        "id": "LdncwYemywgq",
        "outputId": "62c5f5b3-f8f9-4907-9062-13e8159ef521",
        "colab": {
          "base_uri": "https://localhost:8080/"
        }
      },
      "outputs": [
        {
          "output_type": "execute_result",
          "data": {
            "text/plain": [
              "array([0.222, 0.167, 0.111, ..., 0.611, 0.528, 0.444])"
            ]
          },
          "metadata": {},
          "execution_count": 110
        }
      ],
      "source": [
        "# Your code here\n",
        "import numpy as np\n",
        "np.set_printoptions(precision=3)\n",
        "url = 'https://archive.ics.uci.edu/ml/machine-learning-databases/iris/iris.data'\n",
        "iris = np.genfromtxt(url, delimiter=',', dtype='float',usecols=[0])\n",
        "imax,imin=iris.max(),iris.min()\n",
        "iris=(iris-imin)/(imax-imin)\n",
        "iris"
      ]
    },
    {
      "cell_type": "markdown",
      "metadata": {
        "id": "zVzuMzkOywgr"
      },
      "source": [
        "24- Find the number and position of missing values in iris_2d‘s sepallength (1st column)\n",
        "- Input:\n",
        "```Python\n",
        "url = 'https://archive.ics.uci.edu/ml/machine-learning-databases/iris/iris.data'\n",
        "iris_2d = np.genfromtxt(url, delimiter=',', dtype='float')\n",
        "iris_2d[np.random.randint(150, size=20), np.random.randint(4, size=20)] = np.nan\n",
        "```\n",
        "- Desired output:\n",
        "```Python\n",
        "#> Number of missing values: \n",
        "...\n",
        "#> Position of missing values: \n",
        "...\n",
        "```"
      ]
    },
    {
      "cell_type": "code",
      "execution_count": 109,
      "metadata": {
        "id": "E0198evfywgr",
        "outputId": "6fb642f8-e789-4b48-bda2-68f3397b54e7",
        "colab": {
          "base_uri": "https://localhost:8080/"
        }
      },
      "outputs": [
        {
          "output_type": "stream",
          "name": "stdout",
          "text": [
            "5\n",
            "(array([ 13,  32,  36,  41, 104]),)\n"
          ]
        }
      ],
      "source": [
        "# Your code here\n",
        "import numpy as np\n",
        "url = 'https://archive.ics.uci.edu/ml/machine-learning-databases/iris/iris.data'\n",
        "iris_2d = np.genfromtxt(url, delimiter=',', dtype='float', usecols=[0,1,2,3])\n",
        "iris_2d[np.random.randint(150, size=20), np.random.randint(4, size=20)] = np.nan \n",
        "                            \n",
        "print(np.isnan(iris_2d[ :,0]).sum())  \n",
        "print(np.where(np.isnan(iris_2d[:,0])))  "
      ]
    },
    {
      "cell_type": "markdown",
      "metadata": {
        "id": "Rla0LKHCywgr"
      },
      "source": [
        "25- Select the rows of iris_2d that does not have any nan value\n",
        "- Input:\n",
        "```Python\n",
        "# Input\n",
        "url = 'https://archive.ics.uci.edu/ml/machine-learning-databases/iris/iris.data'\n",
        "iris_2d = np.genfromtxt(url, delimiter=',', dtype='float', usecols=[0,1,2,3])\n",
        "```"
      ]
    },
    {
      "cell_type": "code",
      "execution_count": 108,
      "metadata": {
        "id": "zxbq0efLywgs",
        "outputId": "cd411506-13a5-43ca-cd14-2abc5df127cf",
        "colab": {
          "base_uri": "https://localhost:8080/"
        }
      },
      "outputs": [
        {
          "output_type": "execute_result",
          "data": {
            "text/plain": [
              "(array([0, 1, 2, 3]),)"
            ]
          },
          "metadata": {},
          "execution_count": 108
        }
      ],
      "source": [
        "# Your code here\n",
        "url = 'https://archive.ics.uci.edu/ml/machine-learning-databases/iris/iris.data'\n",
        "iris_2d = np.genfromtxt(url, delimiter=',', dtype='float', usecols=[0,1,2,3])\n",
        "iris_2d[np.random.randint(150, size=20), np.random.randint(4, size=20)] = np.nan\n",
        "np.where(np.invert(np.isnan(iris_2d[0,:])))"
      ]
    },
    {
      "cell_type": "markdown",
      "metadata": {
        "id": "g8zv_o8Uywgt"
      },
      "source": [
        "26- Replace all ccurrences of `nan` with 0 in numpy array\n",
        "- Input\n",
        "```Python\n",
        "url = 'https://archive.ics.uci.edu/ml/machine-learning-databases/iris/iris.data'\n",
        "iris_2d = np.genfromtxt(url, delimiter=',', dtype='float', usecols=[0,1,2,3])\n",
        "iris_2d[np.random.randint(150, size=20), np.random.randint(4, size=20)] = np.nan\n",
        "```"
      ]
    },
    {
      "cell_type": "code",
      "execution_count": 111,
      "metadata": {
        "id": "GX2usTbfywgt",
        "outputId": "844e0a45-a34c-47a0-c49c-ae9803c1102c",
        "colab": {
          "base_uri": "https://localhost:8080/"
        }
      },
      "outputs": [
        {
          "output_type": "execute_result",
          "data": {
            "text/plain": [
              "array([[5.1, 3.5, 1.4, 0.2],\n",
              "       [4.9, 3. , 1.4, 0.2],\n",
              "       [4.7, 3.2, 1.3, 0.2],\n",
              "       ...,\n",
              "       [6.5, 3. , 5.2, 0. ],\n",
              "       [6.2, 3.4, 5.4, 2.3],\n",
              "       [5.9, 3. , 5.1, 1.8]])"
            ]
          },
          "metadata": {},
          "execution_count": 111
        }
      ],
      "source": [
        "# Your code here\n",
        "url = 'https://archive.ics.uci.edu/ml/machine-learning-databases/iris/iris.data'\n",
        "iris_2d = np.genfromtxt(url, delimiter=',', dtype='float', usecols=[0,1,2,3])\n",
        "iris_2d[np.random.randint(150, size=20), np.random.randint(4, size=20)] = np.nan\n",
        "iris_2d[np.where(np.isnan(iris_2d))]=0\n",
        "iris_2d"
      ]
    },
    {
      "cell_type": "markdown",
      "metadata": {
        "id": "VPjRR4y8ywgu"
      },
      "source": [
        "27- Bin the petal length (3rd) column of iris_2d to form a text array, such that if petal length is:\n",
        "- Less than 3 –> 'small'\n",
        "- 3-5 –> 'medium'\n",
        "- '>=5 –> 'large'\n",
        "- Input \n",
        "```Python\n",
        "url = 'https://archive.ics.uci.edu/ml/machine-learning-databases/iris/iris.data'\n",
        "iris = np.genfromtxt(url, delimiter=',', dtype='object')\n",
        "names = ('sepallength', 'sepalwidth', 'petallength', 'petalwidth', 'species')\n",
        "```\n",
        "- Desired output:\n",
        "```Python\n",
        "petal_length_cat[:4]\n",
        "#> ['small', 'small', 'small', 'small']\n",
        "```"
      ]
    },
    {
      "cell_type": "code",
      "execution_count": 119,
      "metadata": {
        "id": "wB93laDEywgv",
        "outputId": "4acb0cb7-3a30-45d8-ee16-cdbd7ab54173",
        "colab": {
          "base_uri": "https://localhost:8080/"
        }
      },
      "outputs": [
        {
          "output_type": "execute_result",
          "data": {
            "text/plain": [
              "['small', 'small', 'small', 'small']"
            ]
          },
          "metadata": {},
          "execution_count": 119
        }
      ],
      "source": [
        "# Your code here\n",
        "url = 'https://archive.ics.uci.edu/ml/machine-learning-databases/iris/iris.data'\n",
        "iris = np.genfromtxt(url, delimiter=',', dtype='object')\n",
        "names = ('sepallength', 'sepalwidth', 'petallength', 'petalwidth', 'species')\n",
        "petal_length_bin = np.digitize(iris[:, 2].astype('float'), [0, 3, 5, 10])\n",
        "label_map = {1: 'small', 2: 'medium', 3: 'large', 4: np.nan}\n",
        "petal_length_cat = [label_map[x] for x in petal_length_bin]\n",
        "petal_length_cat[:4]"
      ]
    },
    {
      "cell_type": "markdown",
      "metadata": {
        "id": "yPf-eXYmywgv"
      },
      "source": [
        "28- Find the position of the first occurrence of a value greater than 1.0 in petalwidth 4th column of iris dataset.\n",
        "- Input \n",
        "```Python\n",
        "url = 'https://archive.ics.uci.edu/ml/machine-learning-databases/iris/iris.data'\n",
        "iris = np.genfromtxt(url, delimiter=',', dtype='object')\n",
        "```\n",
        "- Desired output:\n",
        "```Python\n",
        "#> 50\n",
        "```"
      ]
    },
    {
      "cell_type": "code",
      "execution_count": 115,
      "metadata": {
        "id": "qLyM6Raxywgw",
        "outputId": "9199e804-b4f0-42f4-e2ad-ce5e3f948953",
        "colab": {
          "base_uri": "https://localhost:8080/"
        }
      },
      "outputs": [
        {
          "output_type": "execute_result",
          "data": {
            "text/plain": [
              "50"
            ]
          },
          "metadata": {},
          "execution_count": 115
        }
      ],
      "source": [
        "# Your code here\n",
        "url = 'https://archive.ics.uci.edu/ml/machine-learning-databases/iris/iris.data'\n",
        "iris = np.genfromtxt(url, delimiter=',', dtype='float')\n",
        "np.where(iris[:,3]>1.0)[0][0]"
      ]
    },
    {
      "cell_type": "markdown",
      "metadata": {
        "id": "ZbegK82tywgw"
      },
      "source": [
        "29- From the array a, replace all values greater than 30 to 30 and less than 10 to 10. \n",
        "- Input:\n",
        "```Python\n",
        "np.random.seed(100)\n",
        "a = np.random.uniform(1,50, 20)\n",
        "```\n",
        "- Desired output:\n",
        "```Python\n",
        "#> [ 27.63  14.64  21.8   30.    10.    10.    30.    30.    10.    29.18  30.\n",
        "#>   11.25  10.08  10.    11.77  30.    30.    10.    30.    14.43]\n",
        "```"
      ]
    },
    {
      "cell_type": "code",
      "execution_count": 116,
      "metadata": {
        "id": "QJxFuCAjywgw",
        "outputId": "f91f801e-c9f8-434d-d01a-2cef10f8473c",
        "colab": {
          "base_uri": "https://localhost:8080/"
        }
      },
      "outputs": [
        {
          "output_type": "execute_result",
          "data": {
            "text/plain": [
              "array([27.627, 14.64 , 21.801, ..., 10.   , 30.   , 14.43 ])"
            ]
          },
          "metadata": {},
          "execution_count": 116
        }
      ],
      "source": [
        "# Your code here\n",
        "np.random.seed(100)\n",
        "a = np.random.uniform(1,50, 20)\n",
        "a[np.where(a>30)],a[np.where(a<10)]=30,10\n",
        "a"
      ]
    },
    {
      "cell_type": "markdown",
      "metadata": {
        "id": "rCjz7TOfywgx"
      },
      "source": [
        "30- Import the image from the following URL and convert it to a numpy array. URL = ‘https://upload.wikimedia.org/wikipedia/commons/8/8b/Denali_Mt_McKinley.jpg’\n",
        "- Input\n",
        "```Python\n",
        "from io import BytesIO\n",
        "from PIL import Image\n",
        "import PIL, requests\n",
        "```"
      ]
    },
    {
      "cell_type": "code",
      "execution_count": 117,
      "metadata": {
        "id": "-FT0QVCHywgx",
        "outputId": "3695208a-a7c8-4d52-b34a-93b237ab1ab1",
        "colab": {
          "base_uri": "https://localhost:8080/"
        }
      },
      "outputs": [
        {
          "output_type": "stream",
          "name": "stdout",
          "text": [
            "(303, 452, 3)\n"
          ]
        },
        {
          "output_type": "execute_result",
          "data": {
            "text/plain": [
              "array([[[  9,  72, 125],\n",
              "        [  9,  72, 125],\n",
              "        [  9,  72, 125],\n",
              "        ...,\n",
              "        [ 42, 103, 147],\n",
              "        [ 42, 103, 147],\n",
              "        [ 43, 104, 148]],\n",
              "\n",
              "       [[  9,  72, 125],\n",
              "        [  9,  72, 125],\n",
              "        [ 10,  73, 126],\n",
              "        ...,\n",
              "        [ 42, 103, 147],\n",
              "        [ 42, 103, 147],\n",
              "        [ 43, 104, 148]],\n",
              "\n",
              "       [[  9,  72, 125],\n",
              "        [ 10,  73, 126],\n",
              "        [ 10,  73, 126],\n",
              "        ...,\n",
              "        [ 44, 105, 150],\n",
              "        [ 45, 106, 151],\n",
              "        [ 45, 106, 151]],\n",
              "\n",
              "       ...,\n",
              "\n",
              "       [[ 21,  41,  50],\n",
              "        [ 29,  51,  64],\n",
              "        [ 28,  54,  69],\n",
              "        ...,\n",
              "        [ 27,  58,  79],\n",
              "        [ 22,  53,  74],\n",
              "        [ 19,  47,  69]],\n",
              "\n",
              "       [[ 27,  51,  63],\n",
              "        [ 29,  55,  68],\n",
              "        [ 27,  56,  72],\n",
              "        ...,\n",
              "        [ 33,  70,  97],\n",
              "        [ 27,  64,  91],\n",
              "        [ 22,  57,  85]],\n",
              "\n",
              "       [[ 18,  45,  56],\n",
              "        [ 20,  48,  62],\n",
              "        [ 21,  52,  70],\n",
              "        ...,\n",
              "        [ 15,  51,  77],\n",
              "        [ 12,  48,  74],\n",
              "        [ 11,  45,  72]]], dtype=uint8)"
            ]
          },
          "metadata": {},
          "execution_count": 117
        }
      ],
      "source": [
        "# Your code here\n",
        "from io import BytesIO\n",
        "from PIL import Image\n",
        "import PIL, requests\n",
        "PIL.__version__\n",
        "url=\"https://upload.wikimedia.org/wikipedia/commons/8/8b/Denali_Mt_McKinley.jpg\"\n",
        "response=requests.get(url)\n",
        "img = Image.open(BytesIO(response.content))\n",
        "data=np.asarray(img)\n",
        "print(data.shape)\n",
        "data"
      ]
    }
  ],
  "metadata": {
    "hide_input": false,
    "kernelspec": {
      "display_name": "Python 3.10.4 64-bit",
      "language": "python",
      "name": "python3"
    },
    "language_info": {
      "codemirror_mode": {
        "name": "ipython",
        "version": 3
      },
      "file_extension": ".py",
      "mimetype": "text/x-python",
      "name": "python",
      "nbconvert_exporter": "python",
      "pygments_lexer": "ipython3",
      "version": "3.10.4"
    },
    "vscode": {
      "interpreter": {
        "hash": "916dbcbb3f70747c44a77c7bcd40155683ae19c65e1c03b4aa3499c5328201f1"
      }
    },
    "colab": {
      "provenance": [],
      "include_colab_link": true
    }
  },
  "nbformat": 4,
  "nbformat_minor": 0
}